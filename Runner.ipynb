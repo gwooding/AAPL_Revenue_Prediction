{
 "cells": [
  {
   "cell_type": "code",
   "execution_count": 68,
   "metadata": {},
   "outputs": [],
   "source": [
    "import numpy as np\n",
    "import pandas as pd\n",
    "import random\n",
    "import tensorflow as tf\n",
    "from sklearn import preprocessing\n",
    "from xgboost import XGBRegressor\n",
    "import math\n",
    "from sklearn.feature_selection import RFE\n",
    "from sklearn.ensemble import RandomForestRegressor\n",
    "import datetime\n",
    "import dateutil.relativedelta\n",
    "import dateutil\n",
    "import matplotlib\n",
    "import matplotlib.pyplot"
   ]
  },
  {
   "cell_type": "code",
   "execution_count": 91,
   "metadata": {},
   "outputs": [
    {
     "name": "stdout",
     "output_type": "stream",
     "text": [
      "rows created\n"
     ]
    }
   ],
   "source": [
    "paths = [\"Dataffirm_prep1.html\", \n",
    "         \"Dataffirm_prep2.html\", \n",
    "         \"Dataffirm_prep3.html\", \n",
    "         \"Dataffirm_prep4.html\", \n",
    "         \"Dataffirm_prep5.html\", \n",
    "         \"Dataffirm_prep7.html\", \n",
    "         \"Dataffirm_prep8.html\", \n",
    "         \"Dataffirm_prep9.html\", \n",
    "         \"Dataffirm_prep10.html\", \n",
    "         \"Dataffirm_prep11.html\", \n",
    "         \"Dataffirm_prep12.html\", \n",
    "         \"Dataffirm_prep13.html\", \n",
    "         \"Dataffirm_prep14.html\", \n",
    "         \"Dataffirm_prep15.html\", \n",
    "         \"Dataffirm_prep16.html\",\n",
    "         \"Dataffirm_prep17.html\",\n",
    "         \"Dataffirm_prep18.html\",\n",
    "         \"Dataffirm_prep19.html\",\n",
    "         \"Dataffirm_prep20.html\",\n",
    "         \"Dataffirm_prep21.html\",\n",
    "         \"Dataffirm_prep22.html\",\n",
    "         \"Dataffirm_prep23.html\",\n",
    "         \"Dataffirm_prep24.html\",\n",
    "         \"Dataffirm_prep25.html\",\n",
    "         \"Dataffirm_prep26.html\",\n",
    "         \"Dataffirm_prep27.html\",\n",
    "         \"Dataffirm_prep28.html\"]\n",
    "\n",
    "column_count = 298\n",
    "\n",
    "rows = np.array([], dtype=np.float).reshape(0,column_count)\n",
    "\n",
    "def create_rows_and_outputs(path):\n",
    "    with open(path, \"r\") as myfile:\n",
    "        global y_values\n",
    "        global rows\n",
    "        s = myfile.read()\n",
    "\n",
    "        data_x = s[(s.find(\"<pre>gap here\\nbreak \") + 20):s.rfind(\",\\n</pre>\")]\n",
    "        two_quarters = data_x.split(\", gap here\\nbreak \")\n",
    "\n",
    "        new_rows = [row.split(\", break \") for row in two_quarters]\n",
    "        float_rows = [[float(x) for x in row.split(\", \")[1:]] for row in new_rows[0]]\n",
    "        float_rows2 = [[float(x) for x in row.split(\", \")[1:]] for row in new_rows[1]]\n",
    "        rows = np.concatenate((rows, float_rows, float_rows2), axis = 0)\n",
    "\n",
    "[create_rows_and_outputs(p) for p in paths]\n",
    "print(\"rows created\")"
   ]
  },
  {
   "cell_type": "code",
   "execution_count": 92,
   "metadata": {},
   "outputs": [],
   "source": [
    "rows_shuffled  = np.ndarray.copy(rows)\n",
    "random.shuffle(rows_shuffled)\n",
    "rows_dropped_tickers = rows_shuffled[:,1:]\n",
    "\n",
    "divide_index = len(rows_dropped_tickers)/6\n",
    "test_arr = rows_dropped_tickers[:divide_index]\n",
    "\n",
    "x_test = test_arr[:,:-1]\n",
    "y_test = test_arr[:,-1:]\n",
    "\n",
    "train_arr = rows_dropped_tickers[divide_index:]\n",
    "\n",
    "x_train = train_arr[:,:-1]\n",
    "y_train = train_arr[:,-1:]"
   ]
  },
  {
   "cell_type": "code",
   "execution_count": 93,
   "metadata": {},
   "outputs": [
    {
     "name": "stdout",
     "output_type": "stream",
     "text": [
      "test average difference: 56169112.631377704\n"
     ]
    }
   ],
   "source": [
    "model = XGBRegressor(max_depth=10, n_estimators=130, n_jobs=2, tree_method=\"hist\")\n",
    "model.fit(x_train, y_train)\n",
    "\n",
    "y_pred = model.predict(x_test)\n",
    "predictions = [value for value in y_pred]\n",
    "\n",
    "results = list(zip(predictions, y_test))\n",
    "accuracy = [math.fabs(float(r[0]) - float(r[1])) for r in results]\n",
    "\n",
    "print(\"test average difference: \" + str(sum(accuracy)/len(accuracy)))"
   ]
  },
  {
   "cell_type": "code",
   "execution_count": 94,
   "metadata": {},
   "outputs": [
    {
     "name": "stdout",
     "output_type": "stream",
     "text": [
      "AAPL only rows created\n"
     ]
    }
   ],
   "source": [
    "#Actual vs prediction for AAPL:\n",
    "rows2 = np.array([], dtype=np.float).reshape(0, column_count)\n",
    "\n",
    "def convert_row_to_floats(row):\n",
    "    return [float(x) for x in row]\n",
    "\n",
    "def create_rows_and_outputs_aapl(path):\n",
    "    with open(path, \"r\") as myfile:\n",
    "        global y_values\n",
    "        global rows2\n",
    "        s = myfile.read()\n",
    "\n",
    "        data_x = s[(s.find(\"<pre>gap here\\nbreak \") + 20):s.rfind(\",\\n</pre>\")]\n",
    "        two_quarters = data_x.split(\", gap here\\nbreak \")\n",
    "        new_rows = [row.split(\", break \") for row in two_quarters]\n",
    "\n",
    "        full_rows1 = [row.split(\", \") for row in new_rows[0]]\n",
    "        full_rows2 = [row.split(\", \") for row in new_rows[1]]\n",
    "\n",
    "        aapl_1 = [i[1:] for i in full_rows1 if i[0] == \"AAPL\"]\n",
    "        aapl_2 = [i[1:] for i in full_rows2 if i[0] == \"AAPL\"]\n",
    "\n",
    "        float_rows1 = [convert_row_to_floats(row) for row in aapl_1]\n",
    "        float_rows2 = [convert_row_to_floats(row) for row in aapl_2]\n",
    "\n",
    "        rows2 = np.concatenate((rows2, float_rows1, float_rows2), axis=0)\n",
    "\n",
    "[create_rows_and_outputs_aapl(p) for p in paths]\n",
    "print(\"AAPL only rows created\")"
   ]
  },
  {
   "cell_type": "code",
   "execution_count": 95,
   "metadata": {},
   "outputs": [
    {
     "name": "stdout",
     "output_type": "stream",
     "text": [
      "(50552656000.0, 50557000000.0)\n"
     ]
    }
   ],
   "source": [
    "rows_aapl = rows2[:,1:]\n",
    "y_test_aapl = rows_aapl[:,-1:]\n",
    "x_test_aapl = rows_aapl[:,:-1]\n",
    "\n",
    "y_pred = model.predict(x_test_aapl)\n",
    "print(zip(y_pred, y_test_aapl[:,0])[0])"
   ]
  },
  {
   "cell_type": "code",
   "execution_count": 96,
   "metadata": {},
   "outputs": [],
   "source": [
    "start_date = datetime.datetime.strptime(\"2017-09-30\", \"%Y-%m-%d\")\n",
    "\n",
    "dates = []\n",
    "\n",
    "for i in range(54):\n",
    "    dt = start_date\n",
    "    dates.append(dt)\n",
    "    dt = dt - dateutil.relativedelta.relativedelta(months=3)"
   ]
  },
  {
   "cell_type": "code",
   "execution_count": 97,
   "metadata": {},
   "outputs": [
    {
     "name": "stdout",
     "output_type": "stream",
     "text": [
      "Populating the interactive namespace from numpy and matplotlib\n"
     ]
    },
    {
     "data": {
      "text/plain": [
       "<matplotlib.legend.Legend at 0x7fc349d8d0d0>"
      ]
     },
     "execution_count": 97,
     "metadata": {},
     "output_type": "execute_result"
    },
    {
     "data": {
      "image/png": "[encoded data removed]",
      "text/plain": [
       "<Figure size 864x576 with 1 Axes>"
      ]
     },
     "metadata": {},
     "output_type": "display_data"
    }
   ],
   "source": [
    "%pylab inline\n",
    "pylab.rcParams['figure.figsize'] = (12, 8)\n",
    "\n",
    "y_pred_list = list(y_pred)\n",
    "pred_line, = matplotlib.pyplot.plot(range(len(dates)), y_pred_list, label='predictions')\n",
    "actual_line, = matplotlib.pyplot.plot(range(len(dates)), y_test_aapl[:,0], label='actuals')\n",
    "plt.legend(handles=[pred_line, actual_line])"
   ]
  },
  {
   "cell_type": "code",
   "execution_count": 98,
   "metadata": {},
   "outputs": [
    {
     "name": "stdout",
     "output_type": "stream",
     "text": [
      "prediction: 50552655872.0, actual: 50557000000.0, 2018-03-31\n"
     ]
    }
   ],
   "source": [
    "#ANSWER TO THE QUESTION:\n",
    "#Predicting first quarter of 2018 rather than the entire year, could extend this to test\n",
    "#to rest of year when AAPL results come out in July, as we are predicting two quarters\n",
    "#in advance\n",
    "print(\"prediction: {0}, actual: {1}, 2018-03-31\".format(y_pred_list[0], y_test_aapl[0,0]))"
   ]
  },
  {
   "cell_type": "code",
   "execution_count": 99,
   "metadata": {},
   "outputs": [
    {
     "name": "stdout",
     "output_type": "stream",
     "text": [
      "test acc: 77591265.24908632\n"
     ]
    }
   ],
   "source": [
    "#We appear to be overfitting to old data.  Let's just include the last 5 years for training:\n",
    "rows_shuffled  = np.ndarray.copy(rows[:len(rows)/3])\n",
    "random.shuffle(rows_shuffled)\n",
    "\n",
    "rows_dropped_tickers = rows_shuffled[:,1:]\n",
    "divide_index = len(rows_dropped_tickers)/6\n",
    "\n",
    "test_arr = rows_dropped_tickers[:divide_index]\n",
    "\n",
    "x_test = test_arr[:,:-1]\n",
    "y_test = test_arr[:,-1:]\n",
    "\n",
    "train_arr = rows_dropped_tickers[divide_index:]\n",
    "x_train = train_arr[:,:-1]\n",
    "y_train = train_arr[:,-1:]\n",
    "\n",
    "model2 = XGBRegressor(max_depth=10, n_estimators=130, n_jobs=2, tree_method=\"hist\")\n",
    "model2.fit(x_train, y_train)\n",
    "\n",
    "y_pred = model2.predict(x_test)\n",
    "predictions = [value for value in y_pred]\n",
    "\n",
    "results = list(zip(predictions, y_test))\n",
    "accuracy = [math.fabs(float(r[0]) - float(r[1])) for r in results]\n",
    "\n",
    "print(\"test average difference: \" + str(sum(accuracy)/len(accuracy)))\n",
    "#I hoped it would be lower but it will probably be higher"
   ]
  },
  {
   "cell_type": "code",
   "execution_count": 47,
   "metadata": {},
   "outputs": [
    {
     "name": "stdout",
     "output_type": "stream",
     "text": [
      "prediction: 53934895104.0, actual: 50557000000.0, 2018-03-31\n"
     ]
    }
   ],
   "source": [
    "#ANSWER TO THE QUESTION take two:\n",
    "print(\"prediction: {0}, actual: {1}, 2018-03-31\".format(y_pred_list[0], y_test_aapl[0,0]))"
   ]
  },
  {
   "cell_type": "code",
   "execution_count": 100,
   "metadata": {},
   "outputs": [
    {
     "name": "stdout",
     "output_type": "stream",
     "text": [
      "Non AAPL rows created only\n"
     ]
    }
   ],
   "source": [
    "#Is our 15 year model overfitting to particular stocks?  Particularly AAPL?\n",
    "#Let's exclude AAPL:\n",
    "#Apologies for code duplication.  I would make the second method below \n",
    "#pure if I had more time and reuse it\n",
    "\n",
    "rows2 = np.array([], dtype=np.float).reshape(0, column_count)\n",
    "\n",
    "\n",
    "def convert_row_to_floats(row):\n",
    "    return [float(x) for x in row]\n",
    "\n",
    "def create_rows_and_outputs_not_aapl(path):\n",
    "    with open(path, \"r\") as myfile:\n",
    "        global y_values\n",
    "        global rows2\n",
    "        s = myfile.read()\n",
    "\n",
    "        data_x = s[(s.find(\"<pre>gap here\\nbreak \") + 20):s.rfind(\",\\n</pre>\")]\n",
    "\n",
    "        two_quarters = data_x.split(\", gap here\\nbreak \")\n",
    "        new_rows = [row.split(\", break \") for row in two_quarters]\n",
    "\n",
    "        full_rows1 = [row.split(\", \") for row in new_rows[0]]\n",
    "        full_rows2 = [row.split(\", \") for row in new_rows[1]]\n",
    "\n",
    "        aapl_1 = [i[1:] for i in full_rows1 if i[0] != \"AAPL\"]\n",
    "        aapl_2 = [i[1:] for i in full_rows2 if i[0] != \"AAPL\"]\n",
    "\n",
    "        float_rows1 = [convert_row_to_floats(row) for row in aapl_1]\n",
    "        float_rows2 = [convert_row_to_floats(row) for row in aapl_2]\n",
    "\n",
    "        rows2 = np.concatenate((rows2, float_rows1, float_rows2), axis=0)\n",
    "\n",
    "[create_rows_and_outputs_not_aapl(p) for p in paths]\n",
    "print(\"Non AAPL rows created only\")"
   ]
  },
  {
   "cell_type": "code",
   "execution_count": 101,
   "metadata": {},
   "outputs": [],
   "source": [
    "rows_shuffled  = np.ndarray.copy(rows2)\n",
    "\n",
    "random.shuffle(rows_shuffled)\n",
    "rows_dropped_tickers = rows_shuffled[:,1:]\n",
    "\n",
    "divide_index = len(rows_dropped_tickers)/6\n",
    "test_arr = rows_dropped_tickers[:divide_index]\n",
    "\n",
    "x_test = test_arr[:,:-1]\n",
    "y_test = test_arr[:,-1:]\n",
    "\n",
    "train_arr = rows_dropped_tickers[divide_index:]\n",
    "x_train = train_arr[:,:-1]\n",
    "y_train = train_arr[:,-1:]"
   ]
  },
  {
   "cell_type": "code",
   "execution_count": 106,
   "metadata": {},
   "outputs": [
    {
     "name": "stdout",
     "output_type": "stream",
     "text": [
      "test average difference: 64509230.053963885\n"
     ]
    }
   ],
   "source": [
    "model = XGBRegressor(max_depth=10, n_estimators=130, n_jobs=2, tree_method=\"hist\")\n",
    "\n",
    "model.fit(x_train, y_train)\n",
    "\n",
    "y_pred = model.predict(x_test)\n",
    "\n",
    "predictions = [value for value in y_pred]\n",
    "\n",
    "results = list(zip(predictions, y_test))\n",
    "\n",
    "accuracy = [math.fabs(float(r[0]) - float(r[1])) for r in results]\n",
    "\n",
    "print(\"test average difference: \" + str((sum(accuracy)/len(accuracy))))"
   ]
  },
  {
   "cell_type": "code",
   "execution_count": 107,
   "metadata": {},
   "outputs": [
    {
     "name": "stdout",
     "output_type": "stream",
     "text": [
      "AAPL only rows created\n"
     ]
    }
   ],
   "source": [
    "#Actual vs prediction for AAPL:\n",
    "rows2 = np.array([], dtype=np.float).reshape(0, column_count)\n",
    "\n",
    "def convert_row_to_floats(row):\n",
    "    return [float(x) for x in row]\n",
    "\n",
    "def create_rows_and_outputs_aapl(path):\n",
    "    with open(path, \"r\") as myfile:\n",
    "        global y_values\n",
    "        global rows2\n",
    "        s = myfile.read()\n",
    "\n",
    "        data_x = s[(s.find(\"<pre>gap here\\nbreak \") + 20):s.rfind(\",\\n</pre>\")]\n",
    "\n",
    "        two_quarters = data_x.split(\", gap here\\nbreak \")\n",
    "        new_rows = [row.split(\", break \") for row in two_quarters]\n",
    "\n",
    "        full_rows1 = [row.split(\", \") for row in new_rows[0]]\n",
    "        full_rows2 = [row.split(\", \") for row in new_rows[1]]\n",
    "\n",
    "        aapl_1 = [i[1:] for i in full_rows1 if i[0] == \"AAPL\"]\n",
    "        aapl_2 = [i[1:] for i in full_rows2 if i[0] == \"AAPL\"]\n",
    "\n",
    "        float_rows1 = [convert_row_to_floats(row) for row in aapl_1]\n",
    "        float_rows2 = [convert_row_to_floats(row) for row in aapl_2]\n",
    "\n",
    "        rows2 = np.concatenate((rows2, float_rows1, float_rows2), axis=0)\n",
    "\n",
    "[create_rows_and_outputs_aapl(p) for p in paths]\n",
    "print(\"AAPL only rows created\")"
   ]
  },
  {
   "cell_type": "code",
   "execution_count": 109,
   "metadata": {},
   "outputs": [
    {
     "name": "stdout",
     "output_type": "stream",
     "text": [
      "(58445144000.0, 50557000000.0)\n",
      "Populating the interactive namespace from numpy and matplotlib\n"
     ]
    },
    {
     "data": {
      "text/plain": [
       "<matplotlib.legend.Legend at 0x7fc349def550>"
      ]
     },
     "execution_count": 109,
     "metadata": {},
     "output_type": "execute_result"
    },
    {
     "data": {
      "image/png": "[encoded data removed]",
      "text/plain": [
       "<Figure size 864x576 with 1 Axes>"
      ]
     },
     "metadata": {},
     "output_type": "display_data"
    }
   ],
   "source": [
    "rows_aapl = rows2[:,1:]\n",
    "y_test_aapl = rows_aapl[:,-1:]\n",
    "x_test_aapl = rows_aapl[:,:-1]\n",
    "\n",
    "y_pred = model.predict(x_test_aapl)\n",
    "print(zip(y_pred, y_test_aapl[:,0])[0])\n",
    "\n",
    "start_date = datetime.datetime.strptime(\"2017-09-30\", \"%Y-%m-%d\")\n",
    "\n",
    "dates = []\n",
    "\n",
    "for i in range(54):\n",
    "    dt = start_date\n",
    "    dates.append(dt)\n",
    "    dt = dt - dateutil.relativedelta.relativedelta(months=3)\n",
    "    \n",
    "%pylab inline\n",
    "pylab.rcParams['figure.figsize'] = (12, 8)\n",
    "\n",
    "y_pred_list = list(y_pred)\n",
    "pred_line, = matplotlib.pyplot.plot(range(len(dates)), y_pred_list, label='predictions')\n",
    "actual_line, = matplotlib.pyplot.plot(range(len(dates)), y_test_aapl[:,0], label='actuals')\n",
    "plt.legend(handles=[pred_line, actual_line])"
   ]
  },
  {
   "cell_type": "code",
   "execution_count": 110,
   "metadata": {},
   "outputs": [
    {
     "name": "stdout",
     "output_type": "stream",
     "text": [
      "prediction: 58445144064.0, actual: 50557000000.0, 2018-03-31\n"
     ]
    }
   ],
   "source": [
    "#That's even better!\n",
    "#ANSWER TO THE QUESTION take three:\n",
    "print(\"prediction: {0}, actual: {1}, 2018-03-31\".format(y_pred_list[0], y_test_aapl[0,0]))\n",
    "#Worse than before but a bit fairer."
   ]
  },
  {
   "cell_type": "code",
   "execution_count": 113,
   "metadata": {},
   "outputs": [],
   "source": [
    "rfe = RFE(model, 1)\n",
    "fit = rfe.fit(x_train, y_train)\n",
    "top_1_n_features_model = fit.n_features_\n",
    "top_1_n_support_model = fit.support_\n",
    "top_1_n_ranking_model = fit.ranking_"
   ]
  },
  {
   "cell_type": "code",
   "execution_count": 114,
   "metadata": {},
   "outputs": [
    {
     "data": {
      "text/plain": [
       "array([ 37,  46, 174, 144, 162, 125, 193, 132, 194, 196, 149, 157, 186,\n",
       "       204,  90, 183, 192, 128, 102, 112, 166, 159, 200, 187,  91, 190,\n",
       "       205, 152, 146, 155, 131, 175, 252, 117, 136, 110,  92, 240,  85,\n",
       "       244, 143, 178, 145, 115, 238, 239, 241, 281, 245, 247, 249, 158,\n",
       "       256, 133, 264, 105, 269, 266, 270, 271, 165, 278, 185, 276, 180,\n",
       "       228, 258, 260, 181, 177, 122,  95,  86,  89,  93, 126, 176,  81,\n",
       "        99, 113,  79, 111, 124,  83, 170,  75, 191, 118, 119, 139, 100,\n",
       "       161, 218, 129, 107, 173, 253, 109,  77, 138,  69,  73, 108,  84,\n",
       "        98,  76, 171, 148, 291, 156, 167, 123, 106, 104, 164, 163,  80,\n",
       "       257, 211, 234, 235,  96, 135, 272, 279, 140, 274, 189, 277,  88,\n",
       "       184,  94, 101, 262,  97, 265, 141, 137, 230, 120, 182, 168, 284,\n",
       "       179, 103, 292, 294, 296, 116, 263, 261, 160, 255, 251, 130, 237,\n",
       "       233, 172, 231, 250, 207, 209, 121, 229, 210, 212, 134, 219, 220,\n",
       "       223, 225, 226, 224, 243, 147, 232, 142, 208, 114, 259, 275, 127,\n",
       "       254, 150, 236, 267, 268, 280, 282, 154, 153, 213, 273, 246, 248,\n",
       "       215, 216, 217, 227, 214, 206, 203, 197, 195, 222, 199, 188, 198,\n",
       "       201, 202, 151, 242, 169, 283, 285,   8,   3,  41,  49,  56,  57,\n",
       "        61,  65,  17,  10,  22,  34,  43,  31,  18,  44,  47, 295, 293,\n",
       "       290, 289, 288, 287, 286, 221,  42,  14,  59,  52,  24,  16,  30,\n",
       "        39,   2,  27,  35,  45,  48,  15,  50,  32,   1,  55,  62,  38,\n",
       "        60,  63,  23,  53,   4,   7,  11,  13,   9,   5,  20,  21,  25,\n",
       "        28,  29,  36,  12,  33,  19,  26,  40,  54,  71,  64,  70,  58,\n",
       "        67,  68,  87,  51,  82,  78,  72,   6,  66,  74])"
      ]
     },
     "execution_count": 114,
     "metadata": {},
     "output_type": "execute_result"
    }
   ],
   "source": [
    "top_1_n_ranking_model"
   ]
  },
  {
   "cell_type": "code",
   "execution_count": 116,
   "metadata": {},
   "outputs": [],
   "source": [
    "last_columns = [\"quarter\",\n",
    "    \"q1_debt\",\n",
    "    \"q2_debt\",\n",
    "    \"q3_debt\",\n",
    "    \"q4_debt\",\n",
    "    \"q5_debt\",\n",
    "    \"q6_debt\",\n",
    "    \"q7_debt\",\n",
    "    \"q8_debt\",\n",
    "    \"q1_gross_profit\",\n",
    "    \"q2_gross_profit\",\n",
    "    \"q3_gross_profit\",\n",
    "    \"q4_gross_profit\",\n",
    "    \"q5_gross_profit\",\n",
    "    \"q6_gross_profit\",\n",
    "    \"q7_gross_profit\",\n",
    "    \"q8_gross_profit\",\n",
    "    \"q1_operating_income\",\n",
    "    \"q2_operating_income\",\n",
    "    \"q3_operating_income\",\n",
    "    \"q4_operating_income\",\n",
    "    \"q5_operating_income\",\n",
    "    \"q6_operating_income\",\n",
    "    \"q7_operating_income\",\n",
    "    \"q8_operating_income\",\n",
    "    \"q1_operating_revenue\",\n",
    "    \"q2_operating_revenue\",\n",
    "    \"q3_operating_revenue\",\n",
    "    \"q4_operating_revenue\",\n",
    "    \"q5_operating_revenue\",\n",
    "    \"q6_operating_revenue\",\n",
    "    \"q7_operating_revenue\",\n",
    "    \"q8_operating_revenue\",\n",
    "    \"q1_current_ratio\",\n",
    "    \"q2_current_ratio\",\n",
    "    \"q3_current_ratio\",\n",
    "    \"q4_current_ratio\",\n",
    "    \"q5_current_ratio\",\n",
    "    \"q6_current_ratio\",\n",
    "    \"q7_current_ratio\",\n",
    "    \"q8_current_ratio\",\n",
    "    \"q1_financial_leverage\",\n",
    "    \"q2_financial_leverage\",\n",
    "    \"q3_financial_leverage\",\n",
    "    \"q4_financial_leverage\",\n",
    "    \"q5_financial_leverage\",\n",
    "    \"q6_financial_leverage\",\n",
    "    \"q7_financial_leverage\",\n",
    "    \"q8_financial_leverage\",\n",
    "    \"q1_revenue_growth\",\n",
    "    \"q2_revenue_growth\",\n",
    "    \"q3_revenue_growth\",\n",
    "    \"q4_revenue_growth\",\n",
    "    \"q5_revenue_growth\",\n",
    "    \"q6_revenue_growth\",\n",
    "    \"q7_revenue_growth\",\n",
    "    \"q8_revenue_growth\",\n",
    "    \"q1_roe\",\n",
    "    \"q2_roe\",\n",
    "    \"q3_roe\",\n",
    "    \"q4_roe\",\n",
    "    \"q5_roe\",\n",
    "    \"q6_roe\",\n",
    "    \"q7_roe\",\n",
    "    \"q8_roe\",\n",
    "    \"q1_market_cap\",\n",
    "    \"q2_market_cap\",\n",
    "    \"q3_market_cap\",\n",
    "    \"q4_market_cap\",\n",
    "    \"q5_market_cap\",\n",
    "    \"q6_market_cap\",\n",
    "    \"q7_market_cap\",\n",
    "    \"q8_market_cap\",\n",
    "    \"q1_total_revenue\",\n",
    "    \"q2_total_revenue\",\n",
    "    \"q3_total_revenue\",\n",
    "    \"q4_total_revenue\",\n",
    "    \"q5_total_revenue\",\n",
    "    \"q6_total_revenue\",\n",
    "    \"q7_total_revenue\",\n",
    "    \"q8_total_revenue\"]"
   ]
  },
  {
   "cell_type": "code",
   "execution_count": 118,
   "metadata": {},
   "outputs": [],
   "source": [
    "ranks_of_last_columns = top_1_n_ranking_model[-len(last_columns):]"
   ]
  },
  {
   "cell_type": "code",
   "execution_count": 119,
   "metadata": {},
   "outputs": [
    {
     "name": "stdout",
     "output_type": "stream",
     "text": [
      "('quarter', 8)\n",
      "('q1_debt', 3)\n",
      "('q2_debt', 41)\n",
      "('q3_debt', 49)\n",
      "('q4_debt', 56)\n",
      "('q5_debt', 57)\n",
      "('q6_debt', 61)\n",
      "('q7_debt', 65)\n",
      "('q8_debt', 17)\n",
      "('q1_gross_profit', 10)\n",
      "('q2_gross_profit', 22)\n",
      "('q3_gross_profit', 34)\n",
      "('q4_gross_profit', 43)\n",
      "('q5_gross_profit', 31)\n",
      "('q6_gross_profit', 18)\n",
      "('q7_gross_profit', 44)\n",
      "('q8_gross_profit', 47)\n",
      "('q1_operating_income', 295)\n",
      "('q2_operating_income', 293)\n",
      "('q3_operating_income', 290)\n",
      "('q4_operating_income', 289)\n",
      "('q5_operating_income', 288)\n",
      "('q6_operating_income', 287)\n",
      "('q7_operating_income', 286)\n",
      "('q8_operating_income', 221)\n",
      "('q1_operating_revenue', 42)\n",
      "('q2_operating_revenue', 14)\n",
      "('q3_operating_revenue', 59)\n",
      "('q4_operating_revenue', 52)\n",
      "('q5_operating_revenue', 24)\n",
      "('q6_operating_revenue', 16)\n",
      "('q7_operating_revenue', 30)\n",
      "('q8_operating_revenue', 39)\n",
      "('q1_current_ratio', 2)\n",
      "('q2_current_ratio', 27)\n",
      "('q3_current_ratio', 35)\n",
      "('q4_current_ratio', 45)\n",
      "('q5_current_ratio', 48)\n",
      "('q6_current_ratio', 15)\n",
      "('q7_current_ratio', 50)\n",
      "('q8_current_ratio', 32)\n",
      "('q1_financial_leverage', 1)\n",
      "('q2_financial_leverage', 55)\n",
      "('q3_financial_leverage', 62)\n",
      "('q4_financial_leverage', 38)\n",
      "('q5_financial_leverage', 60)\n",
      "('q6_financial_leverage', 63)\n",
      "('q7_financial_leverage', 23)\n",
      "('q8_financial_leverage', 53)\n",
      "('q1_revenue_growth', 4)\n",
      "('q2_revenue_growth', 7)\n",
      "('q3_revenue_growth', 11)\n",
      "('q4_revenue_growth', 13)\n",
      "('q5_revenue_growth', 9)\n",
      "('q6_revenue_growth', 5)\n",
      "('q7_revenue_growth', 20)\n",
      "('q8_revenue_growth', 21)\n",
      "('q1_roe', 25)\n",
      "('q2_roe', 28)\n",
      "('q3_roe', 29)\n",
      "('q4_roe', 36)\n",
      "('q5_roe', 12)\n",
      "('q6_roe', 33)\n",
      "('q7_roe', 19)\n",
      "('q8_roe', 26)\n",
      "('q1_market_cap', 40)\n",
      "('q2_market_cap', 54)\n",
      "('q3_market_cap', 71)\n",
      "('q4_market_cap', 64)\n",
      "('q5_market_cap', 70)\n",
      "('q6_market_cap', 58)\n",
      "('q7_market_cap', 67)\n",
      "('q8_market_cap', 68)\n",
      "('q1_total_revenue', 87)\n",
      "('q2_total_revenue', 51)\n",
      "('q3_total_revenue', 82)\n",
      "('q4_total_revenue', 78)\n",
      "('q5_total_revenue', 72)\n",
      "('q6_total_revenue', 6)\n",
      "('q7_total_revenue', 66)\n",
      "('q8_total_revenue', 74)\n"
     ]
    }
   ],
   "source": [
    "results = zip(last_columns, ranks_of_last_columns)\n",
    "for res in results:\n",
    "    print(res)"
   ]
  },
  {
   "cell_type": "code",
   "execution_count": 125,
   "metadata": {},
   "outputs": [
    {
     "name": "stdout",
     "output_type": "stream",
     "text": [
      "debt: 349\n",
      "gross_profit: 249\n",
      "operating_income: 2249\n",
      "operating_revenue: 276\n",
      "current_ratio: 254\n",
      "financial_leverage: 355\n",
      "revenue_growth: 90\n",
      "roe: 208\n",
      "market_cap: 492\n",
      "total_revenue: 516\n"
     ]
    }
   ],
   "source": [
    "#which measurements had the highest average rank?\n",
    "print(\"debt: \" + str(sum(ranks_of_last_columns[1:9])))\n",
    "print(\"gross_profit: \" + str(sum(ranks_of_last_columns[9:17])))\n",
    "print(\"operating_income: \" + str(sum(ranks_of_last_columns[17:25])))\n",
    "print(\"operating_revenue: \" + str(sum(ranks_of_last_columns[25:33])))\n",
    "print(\"current_ratio: \" + str(sum(ranks_of_last_columns[33:41])))\n",
    "print(\"financial_leverage: \" + str(sum(ranks_of_last_columns[41:49])))\n",
    "print(\"revenue_growth: \" + str(sum(ranks_of_last_columns[49:57])))\n",
    "print(\"roe: \" + str(sum(ranks_of_last_columns[57:65])))\n",
    "print(\"market_cap: \" + str(sum(ranks_of_last_columns[65:73])))\n",
    "print(\"total_revenue: \" + str(sum(ranks_of_last_columns[73:81])))"
   ]
  },
  {
   "cell_type": "code",
   "execution_count": 130,
   "metadata": {},
   "outputs": [],
   "source": [
    "#My guess is that revenue_growth and the quarter we're in is heavily driving our model\n",
    "#Also Financial Leverage seems strange to be ranked so highly\n",
    "#Let's remove these features, retrain, and see what the model does:\n",
    "\n",
    "\n",
    "#remove quarter and revenue growth\n",
    "x_train_new = np.delete(x_train, [215, 256, 257, 258, 259, 260, 261, 262, 263, 264, 265, 266, 267, 268, 269, 270, 271], 1)\n",
    "x_test_new = np.delete(x_test, [215, 256, 257, 258, 259, 260, 261, 262, 263, 264, 265, 266, 267, 268, 269, 270, 271], 1)\n"
   ]
  },
  {
   "cell_type": "code",
   "execution_count": 131,
   "metadata": {},
   "outputs": [
    {
     "data": {
      "text/plain": [
       "(66555, 279)"
      ]
     },
     "execution_count": 131,
     "metadata": {},
     "output_type": "execute_result"
    }
   ],
   "source": [
    "x_train_new.shape"
   ]
  },
  {
   "cell_type": "code",
   "execution_count": 132,
   "metadata": {},
   "outputs": [
    {
     "name": "stdout",
     "output_type": "stream",
     "text": [
      "test average difference: 68919991.31540643\n"
     ]
    }
   ],
   "source": [
    "model3 = XGBRegressor(max_depth=10, n_estimators=130, n_jobs=2, tree_method=\"hist\")\n",
    "model3.fit(x_train_new, y_train)\n",
    "\n",
    "y_pred = model3.predict(x_test_new)\n",
    "predictions = [value for value in y_pred]\n",
    "\n",
    "results = list(zip(predictions, y_test))\n",
    "accuracy = [math.fabs(float(r[0]) - float(r[1])) for r in results]\n",
    "\n",
    "print(\"test average difference: \" + str(sum(accuracy)/len(accuracy)))\n",
    "#Not so different to previous model."
   ]
  }
 ],
 "metadata": {
  "kernelspec": {
   "display_name": "Python 2",
   "language": "python",
   "name": "python2"
  },
  "language_info": {
   "codemirror_mode": {
    "name": "ipython",
    "version": 2
   },
   "file_extension": ".py",
   "mimetype": "text/x-python",
   "name": "python",
   "nbconvert_exporter": "python",
   "pygments_lexer": "ipython2",
   "version": "2.7.12"
  }
 },
 "nbformat": 4,
 "nbformat_minor": 2
}
